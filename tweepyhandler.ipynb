{
 "cells": [
  {
   "cell_type": "code",
   "execution_count": 36,
   "metadata": {
    "collapsed": false
   },
   "outputs": [],
   "source": [
    "import tweepy\n",
    "import textblob\n",
    "from textblob import TextBlob as tb\n",
    "consumer_key= \"your_key\"\n",
    "consumer_secret= \"your_key\"\n",
    "access_token= \"-your_key\"\n",
    "acess_token_secret= \"your_key\"\n"
   ]
  },
  {
   "cell_type": "code",
   "execution_count": 37,
   "metadata": {
    "collapsed": false
   },
   "outputs": [],
   "source": [
    "t=tb(\"This access token can be used used used to make API requests on your own account's behalf. Do not share your access token secret with anyone. \")"
   ]
  },
  {
   "cell_type": "code",
   "execution_count": 38,
   "metadata": {
    "collapsed": false
   },
   "outputs": [
    {
     "data": {
      "text/plain": [
       "WordList(['This', 'access', 'token', 'can', 'be', 'used', 'used', 'used', 'to', 'make', 'API', 'requests', 'on', 'your', 'own', 'account', \"'s\", 'behalf', 'Do', 'not', 'share', 'your', 'access', 'token', 'secret', 'with', 'anyone'])"
      ]
     },
     "execution_count": 38,
     "metadata": {},
     "output_type": "execute_result"
    }
   ],
   "source": [
    "t.words # textblob function to divide paragraph into words.(repeated words are recorded as many times as they appear)"
   ]
  },
  {
   "cell_type": "code",
   "execution_count": 39,
   "metadata": {
    "collapsed": false
   },
   "outputs": [
    {
     "data": {
      "text/plain": [
       "0.09999999999999998"
      ]
     },
     "execution_count": 39,
     "metadata": {},
     "output_type": "execute_result"
    }
   ],
   "source": [
    "t.sentiment.polarity #function to check the sentiment polarity of the  text, ranges lies between -1 to 1"
   ]
  },
  {
   "cell_type": "code",
   "execution_count": 40,
   "metadata": {
    "collapsed": false
   },
   "outputs": [
    {
     "data": {
      "text/plain": [
       "[('This', 'DT'),\n",
       " ('access', 'NN'),\n",
       " ('token', 'NN'),\n",
       " ('can', 'MD'),\n",
       " ('be', 'VB'),\n",
       " ('used', 'VBN'),\n",
       " ('used', 'VBN'),\n",
       " ('used', 'VBN'),\n",
       " ('to', 'TO'),\n",
       " ('make', 'VB'),\n",
       " ('API', 'NNP'),\n",
       " ('requests', 'NNS'),\n",
       " ('on', 'IN'),\n",
       " ('your', 'PRP$'),\n",
       " ('own', 'JJ'),\n",
       " ('account', 'NN'),\n",
       " (\"'s\", 'POS'),\n",
       " ('behalf', 'NN'),\n",
       " ('Do', 'NNP'),\n",
       " ('not', 'RB'),\n",
       " ('share', 'NN'),\n",
       " ('your', 'PRP$'),\n",
       " ('access', 'NN'),\n",
       " ('token', 'NN'),\n",
       " ('secret', 'NN'),\n",
       " ('with', 'IN'),\n",
       " ('anyone', 'NN')]"
      ]
     },
     "execution_count": 40,
     "metadata": {},
     "output_type": "execute_result"
    }
   ],
   "source": [
    "t.tags # divides words according to their tags."
   ]
  },
  {
   "cell_type": "code",
   "execution_count": 13,
   "metadata": {
    "collapsed": false
   },
   "outputs": [],
   "source": [
    "auth=tweepy.OAuthHandler(consumer_key,consumer_secret) #its a CAPS O_for_Orange #to create authentication for our tweepyapp."
   ]
  },
  {
   "cell_type": "code",
   "execution_count": 15,
   "metadata": {
    "collapsed": false
   },
   "outputs": [],
   "source": [
    "auth.set_access_token(access_token,acess_token_secret) #verify our access tokens and keys."
   ]
  },
  {
   "cell_type": "code",
   "execution_count": 21,
   "metadata": {
    "collapsed": false
   },
   "outputs": [],
   "source": [
    "clf=tweepy.API(auth) #creating a new tweepy auth variable"
   ]
  },
  {
   "cell_type": "code",
   "execution_count": 34,
   "metadata": {
    "collapsed": false
   },
   "outputs": [],
   "source": [
    "new = clf.search(\"your_search_term\") #attach your search term here to search for tweets (use code since=\"date , until=\"date\" to limit date range of tweet.)"
   ]
  },
  {
   "cell_type": "code",
   "execution_count": 35,
   "metadata": {
    "collapsed": false
   },
   "outputs": [
    {
     "name": "stdout",
     "output_type": "stream",
     "text": [
      "Stocks to watch:\n",
      "Positive: #ADANIENT, #ADANIPOWER, #OMKARCHEM, #TATACHEM, #PIDILITE, #NILKAMAL\n",
      "Negative: #TATAMOTOR\n",
      "tiago It's #Fantastico! tata tiago from #tatamotor #kumaranautomobiles in nagercoil marthandam Call 9488775399… https://t.co/FZQ4luWXYN\n",
      "Booking now benefits up to 45,000 rs tata zest from tatamotor kumaranautomobiles  #nagercoil #marthandam 9488775399… https://t.co/EJzn5lGHql\n",
      "tata tiago from #tatamotor. Now with AMT. #kumaranautomobiles in nagercoil marthandam Call 9488775399… https://t.co/ShtxHVk3JZ\n",
      "#TATAMOTOR fo exited at 480..M2M !!\n",
      "RT @YEHCHINA: Professional from#tatamotor #foxconn#emerson#veenaworld#TCS#starbucks are learning Chinese with #yehchina#tYoutoocan# https:/…\n",
      "tiago It's #Fantastico! Now with AMT from #tatamotor #kumaranautomobiles in nagercoil marthandam Call 9488775399… https://t.co/bz0S9Jb9vu\n",
      "tiago It's #Fantastico! Now with AMT from #tatamotor #kumaranautomobiles in nagercoil marthandam Call 9488775399… https://t.co/dNp5X4WF2m\n",
      "tiago It's #Fantastico! Now with AMT from #tatamotor #kumaranautomobiles in nagercoil marthandam Call 9488775399… https://t.co/2QQit258n6\n",
      "tatamotor $TATAMOTORS https://t.co/H1Lp2Rm13W TV_TradingIdeas\n",
      "$TATAMOTORS - tatamotor - https://t.co/L5B4S47i1n\n",
      "tatamotor $TATAMOTORS https://t.co/BCTX2oqWYu\n",
      "tiago It's #Fantastico! Now with AMT. tiago from #tatamotor #kumaranautomobiles in #nagercoil #marthandam 948877539… https://t.co/5qsqo7XSjJ\n",
      "#TATAMOTOR fo bought as #BTST @ 480 Used SL at 472..\n",
      "#RSI 15Mnt gives +Ve trigger..!\n",
      "\n",
      "#RSI  #CCI #TradingSystem  #Nifty  #Banknift\n",
      "tiago It's #Fantastico! Now with AMT. tiago from #tatamotor #kumaranautomobiles in #nagercoil #marthandam 948877539… https://t.co/AWaysxq8q6\n"
     ]
    }
   ],
   "source": [
    "for tweet in new:\n",
    "    print(tweet.text)\n",
    "    we=tb(tweet.text)\n",
    "    we.sentiment.polarity # printing the extracted tweets \".text function is used to print unicode-8 to text format."
   ]
  },
  {
   "cell_type": "code",
   "execution_count": null,
   "metadata": {
    "collapsed": true
   },
   "outputs": [],
   "source": []
  }
 ],
 "metadata": {
  "anaconda-cloud": {},
  "kernelspec": {
   "display_name": "Python [conda root]",
   "language": "python",
   "name": "conda-root-py"
  },
  "language_info": {
   "codemirror_mode": {
    "name": "ipython",
    "version": 3
   },
   "file_extension": ".py",
   "mimetype": "text/x-python",
   "name": "python",
   "nbconvert_exporter": "python",
   "pygments_lexer": "ipython3",
   "version": "3.5.2"
  }
 },
 "nbformat": 4,
 "nbformat_minor": 1
}
